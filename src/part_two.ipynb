{
 "cells": [
  {
   "cell_type": "markdown",
   "metadata": {},
   "source": [
    "# Proyecto Modelado, Optimización y Simulación - Parte 2\n",
    "\n",
    "## Autor: [Jaime Andres Torres Bermejo](https://github.com/mews6)\n",
    "\n",
    "Seneca Libre se posiciona como líder en el comercio electrónico en Bogotá, comprometido\n",
    "con una operación logística eficiente y competitiva. En la primera etapa de este proyecto,\n",
    "desarrollamos un modelo matemático integral diseñado para optimizar las rutas de suministro,\n",
    "enfrentando desaf ́ıos como alta demanda, costos elevados y las limitaciones de una flota\n",
    "compuesta por m ́as de 700 vehıculos.  Este modelo se enfocó en reducir costos operativos,\n",
    "mejorar la puntualidad de las entregas y equilibrar la carga de trabajo de los transportistas.\n",
    "En esta segunda fase, el objetivo principal es implementar y validar el modelo dise ̃nado,\n",
    "demostrando que refleja de manera precisa la operación logística y que es capaz de predecir\n",
    "rutas y costos de forma confiable.  Cada equipo deberá implementar el modelo utilizando\n",
    "herramientas  como\n",
    "Python (Pyomo o PuLP ) o GAMS,  resolviendo  casos  de  prueba  que\n",
    "simulan diferentes escenarios operacionales.  \n",
    "\n",
    "A través de esta implementación, se espera\n",
    "obtener resultados que permitan evaluar la viabilidad y precisión del modelo, as ́ı como\n",
    "identificar oportunidades de mejora. La validación de esta etapa es clave, ya que los equipos analizarán no solo los resultados\n",
    "de las rutas optimizadas, sino tambi ́en los costos involucrados, identificando discrepancias\n",
    "entre el modelo y las operaciones reales.  Estos análisis permitir ́an a Seneca Libre tomar\n",
    "decisiones estratégicas informadas, fortaleciendo su posicióen el mercado"
   ]
  },
  {
   "cell_type": "code",
   "execution_count": null,
   "metadata": {},
   "outputs": [],
   "source": [
    "import os\n",
    "import numpy as np\n",
    "import pandas as pd\n",
    "from shapely.geometry import Point, Polygon\n",
    "import geopandas as gpd\n",
    "from concurrent.futures import ThreadPoolExecutor\n",
    "import folium\n",
    "from folium.plugins import MarkerCluster\n",
    "from shapely.validation import explain_validity\n",
    "from pyomo.environ import *\n",
    "from pyomo.opt import SolverFactory\n"
   ]
  },
  {
   "cell_type": "markdown",
   "metadata": {},
   "source": [
    "# HiGHs \n",
    "\n"
   ]
  },
  {
   "cell_type": "code",
   "execution_count": null,
   "metadata": {},
   "outputs": [],
   "source": [
    "model = ConcreteModel()\n"
   ]
  }
 ],
 "metadata": {
  "kernelspec": {
   "display_name": "Python 3",
   "language": "python",
   "name": "python3"
  },
  "language_info": {
   "name": "python",
   "version": "3.12.3"
  }
 },
 "nbformat": 4,
 "nbformat_minor": 2
}
